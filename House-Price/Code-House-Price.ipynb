{
 "cells": [
  {
   "cell_type": "markdown",
   "metadata": {},
   "source": [
    "# BENGALURU-HOUSE-PRICES\n",
    "#### Võ Hửu Nghĩa"
   ]
  },
  {
   "cell_type": "markdown",
   "metadata": {},
   "source": [
    " ## I. DATA PROCESSING\n",
    " "
   ]
  },
  {
   "cell_type": "markdown",
   "metadata": {},
   "source": [
    "\n",
    " IMPORT CÁC THƯ VIỆN CẦN THIẾT"
   ]
  },
  {
   "cell_type": "code",
   "execution_count": null,
   "metadata": {},
   "outputs": [],
   "source": [
    "import pandas as pd\n",
    "import numpy as np\n",
    "import seaborn as sns\n",
    "import matplotlib.pyplot as plt\n",
    "import matplotlib\n",
    "%matplotlib inline"
   ]
  },
  {
   "cell_type": "markdown",
   "metadata": {},
   "source": [
    "ĐỌC TẬP DỮ LIỆU BẰNG THƯ VIỆN PANDAS"
   ]
  },
  {
   "cell_type": "code",
   "execution_count": null,
   "metadata": {},
   "outputs": [],
   "source": [
    "df1 = pd.read_csv('D:/Python-for-Data-Analyst/DataSet/bengaluru_house_prices.csv')\n",
    "df1.head()"
   ]
  },
  {
   "cell_type": "markdown",
   "metadata": {},
   "source": [
    "XEM SỐ DÒNG VÀ SỐ CỘT "
   ]
  },
  {
   "cell_type": "code",
   "execution_count": null,
   "metadata": {},
   "outputs": [],
   "source": [
    "df1.shape"
   ]
  },
  {
   "cell_type": "markdown",
   "metadata": {},
   "source": [
    "- Dataset có 13320 dòng và 9 cột"
   ]
  },
  {
   "cell_type": "markdown",
   "metadata": {},
   "source": [
    "XEM CHI TIẾT TỪNG CỘT VÀ KIỂU DỮ LIỆU CỦA CHÚNG"
   ]
  },
  {
   "cell_type": "code",
   "execution_count": null,
   "metadata": {},
   "outputs": [],
   "source": [
    "df1.info()"
   ]
  },
  {
   "cell_type": "markdown",
   "metadata": {},
   "source": [
    "ĐẾM GIÁ TRỊ NULL CỦA TỪNG CỘT"
   ]
  },
  {
   "cell_type": "code",
   "execution_count": null,
   "metadata": {},
   "outputs": [],
   "source": [
    "df1.isnull().sum()"
   ]
  },
  {
   "cell_type": "markdown",
   "metadata": {},
   "source": [
    "- Có 2 cột có số giá trị null cao là society(tên dự án) và balcony(số ban công có sẵn) với các giá trị lần lượt là : 5502 và 609\n",
    "- Ngoài ra cố một số các cột khác cũng có giá trị null nhưng ít mà có thể loại bỏ hàng những đó được"
   ]
  },
  {
   "cell_type": "markdown",
   "metadata": {},
   "source": [
    "XEM CÁC GIÁ TRỊ CÓ TRONG CỘT AREA_TYPE"
   ]
  },
  {
   "cell_type": "code",
   "execution_count": null,
   "metadata": {},
   "outputs": [],
   "source": [
    "df1['area_type'].unique()"
   ]
  },
  {
   "cell_type": "markdown",
   "metadata": {},
   "source": [
    "- Có 4 giá trị trong cột area_type"
   ]
  },
  {
   "cell_type": "code",
   "execution_count": null,
   "metadata": {},
   "outputs": [],
   "source": [
    "df1['area_type'].value_counts()"
   ]
  },
  {
   "cell_type": "markdown",
   "metadata": {},
   "source": [
    "- Ứng với mỗi giá trị  sẽ đi kèm số lượng ( tương ứng với số dòng xuất hiện trong tập dữ liệu)"
   ]
  },
  {
   "cell_type": "markdown",
   "metadata": {},
   "source": [
    "XOÁ NHỮNG CỘT KHÔNG DÙNG ĐẾN TRONG VIỆC XÂY DỰNG MODEL"
   ]
  },
  {
   "cell_type": "code",
   "execution_count": null,
   "metadata": {},
   "outputs": [],
   "source": [
    " # tham số exis = columns để chỉ cho thằng pandas biết rằng những giá trị đó nằm ở trên cột nếu không để có thể sẽ xoá nhầm các hàng có giá trị đó.\n",
    "df2 = df1.drop(['area_type','society','availability','balcony'],axis='columns')\n",
    "df2.shape"
   ]
  },
  {
   "cell_type": "markdown",
   "metadata": {},
   "source": [
    "## DATA CLEANING : XỬ LÍ GIÁ TRỊ NAN"
   ]
  },
  {
   "cell_type": "markdown",
   "metadata": {},
   "source": [
    "KIỂM TRA CÁC GIÁ TRỊ NULL CÓ TRONG DF2"
   ]
  },
  {
   "cell_type": "code",
   "execution_count": null,
   "metadata": {},
   "outputs": [],
   "source": [
    "df2.isnull().sum()"
   ]
  },
  {
   "cell_type": "markdown",
   "metadata": {},
   "source": [
    "CHÚNG TA CÓ THỂ BỎ TẤT CẢ CÁC DÒNG CÓ GIÁ TRỊ NULL ĐÓ ĐI( NHƯNG SẼ KHÔNG HIỆU QUẢ ĐỐI VỚI CÁC GIÁ TRỊ CÓ QUÁ NHIỀU NULL, VÌ NHƯ THÊ SẼ LÀM MẤT ĐI TÀI NGUYÊN). NHƯNG ĐÂY LÀ CÁCH ĐƠN GIẢN NHẤT"
   ]
  },
  {
   "cell_type": "code",
   "execution_count": null,
   "metadata": {},
   "outputs": [],
   "source": [
    "df3 = df2.dropna()\n",
    "df3.isnull().sum()"
   ]
  },
  {
   "cell_type": "markdown",
   "metadata": {},
   "source": [
    "- Bây giờ đã không còn giá trụ null nào trong tập dữ liệu"
   ]
  },
  {
   "cell_type": "code",
   "execution_count": null,
   "metadata": {},
   "outputs": [],
   "source": [
    "df3.shape"
   ]
  },
  {
   "cell_type": "markdown",
   "metadata": {},
   "source": [
    "- Tập dữ liệu từ 13320 dòng (df2) xuống còn 13246 dòng (df3) nghĩa là đã loại bỏ đi 74 dòng chứa giá trị null"
   ]
  },
  {
   "cell_type": "markdown",
   "metadata": {},
   "source": [
    "## FEATURE ENGINEERING"
   ]
  },
  {
   "cell_type": "markdown",
   "metadata": {},
   "source": [
    "XEM LẠI TẬP DF3"
   ]
  },
  {
   "cell_type": "code",
   "execution_count": null,
   "metadata": {},
   "outputs": [],
   "source": [
    "df3.sample(5)"
   ]
  },
  {
   "cell_type": "markdown",
   "metadata": {},
   "source": [
    "- Trong cột size, có cả chữ và số, bây giờ t sẽ tách chúng ra làm 2 cột"
   ]
  },
  {
   "cell_type": "markdown",
   "metadata": {},
   "source": [
    "tách size ra thành 2 cột "
   ]
  },
  {
   "cell_type": "code",
   "execution_count": null,
   "metadata": {},
   "outputs": [],
   "source": [
    " # df3['bhk'] = df3['size'].apply(lambda x: int(x.split(' ')[0]))\n",
    "# df3['bhk'] = df3['size'].str.extract(r'(\\d+)', expand=False).astype(int)\n",
    "df3.loc[:, 'bhk'] = df3['size'].str.extract(r'(\\d+)', expand=False).astype(int)\n",
    "df3.sample(4)"
   ]
  },
  {
   "cell_type": "markdown",
   "metadata": {},
   "source": [
    "- tạo ra một cột mới là bhk để lưu giá trị đầu tiên của cột size, nghĩa là cột này chứa giá trị của số phòng."
   ]
  },
  {
   "cell_type": "markdown",
   "metadata": {},
   "source": [
    "Xoá những giá trị không phải là số trong trong cột total_sqft(chứa từ 1 chữ cái trở lên)"
   ]
  },
  {
   "cell_type": "code",
   "execution_count": null,
   "metadata": {},
   "outputs": [],
   "source": [
    "# def remove_non_numeric(value):\n",
    "#     return ''.join(char for char in value if char.isdigit())\n",
    "\n",
    "# df3.loc[:, 'total_sqft'] = df3['total_sqft'].apply(remove_non_numeric)"
   ]
  },
  {
   "cell_type": "markdown",
   "metadata": {},
   "source": [
    "Bây giờ xử lí cột total_sqft, vì cột này có các giá trị dạng 'số-số' ví dụ như 2100 - 2850, tôi sẽ tính trung bình của 2 số đấy, còn những giá trị khác thì vẫn giữa nguyên"
   ]
  },
  {
   "cell_type": "code",
   "execution_count": null,
   "metadata": {},
   "outputs": [],
   "source": [
    "def calculate_average(value):\n",
    "    if isinstance(value, str) and '-' in value:\n",
    "        # If the value is in the format of number - number\n",
    "        values = value.split('-')\n",
    "        start = float(values[0].strip())\n",
    "        end = float(values[1].strip())\n",
    "        average = (start + end) / 2\n",
    "        return average\n",
    "    else:\n",
    "        # If the value is a single number or a float\n",
    "        try:\n",
    "            return float(value)\n",
    "        except ValueError:\n",
    "            return None\n",
    "\n",
    "df3['total_sqft'] = df3['total_sqft'].map(calculate_average)\n",
    "df3.sample(2)"
   ]
  },
  {
   "cell_type": "markdown",
   "metadata": {},
   "source": [
    "- Ở đây chúng ta ghi đè chứ không tạo ra cột mới để tiết kiệm dung lượng."
   ]
  },
  {
   "cell_type": "markdown",
   "metadata": {},
   "source": [
    "KIỂM TRA KẾT QUẢ ĐÃ XỬ LÍ Ở TRÊN"
   ]
  },
  {
   "cell_type": "code",
   "execution_count": null,
   "metadata": {},
   "outputs": [],
   "source": [
    "df3.loc[30]"
   ]
  },
  {
   "cell_type": "code",
   "execution_count": null,
   "metadata": {},
   "outputs": [],
   "source": [
    "(2100+2850)/2"
   ]
  },
  {
   "cell_type": "markdown",
   "metadata": {},
   "source": [
    "- Kết quả cho ra hoàn toàn chính xác."
   ]
  },
  {
   "cell_type": "markdown",
   "metadata": {},
   "source": [
    "Tạo cột mới chứa giá của mỗi square feet. Giả sử giá 100000/sqf"
   ]
  },
  {
   "cell_type": "code",
   "execution_count": null,
   "metadata": {},
   "outputs": [],
   "source": [
    "df3.loc[:, 'price_per_sqft'] = (df3['price']*100000/df3['total_sqft']).round(2)\n",
    "df3.head(5)"
   ]
  },
  {
   "cell_type": "markdown",
   "metadata": {},
   "source": [
    "- Ở đây chúng ta sử dụng phương thức loc() để tính toán trên tất cả các hàng ( bằng dấu :) và tạo ra cột mới chứa giá trị trên mỗi feet vuông\n",
    "- Sau đó ta làm tròn 2 chữ số bằng hàm round(2)"
   ]
  },
  {
   "cell_type": "markdown",
   "metadata": {},
   "source": [
    "SỬ DỤNG KĨ THUẬT GIẢM CHIỀU(DIMENSIONALITY REDUCTION) ĐỂ LÀM SỐ LƯỢNG LOCATION "
   ]
  },
  {
   "cell_type": "code",
   "execution_count": null,
   "metadata": {},
   "outputs": [],
   "source": [
    "# Xử dụng hàm hàm lambda với phương trức strip() nhầm loại bỏ những khoảng trắng ở đầu và cuối chuỗi\n",
    "#Ví dụ, nếu giá trị ban đầu trong cột \"location\" là \" New York \", sau khi áp dụng hàm lambda trên, giá trị sẽ trở thành \"New York\"\n",
    "df3.location = df3.location.apply(lambda x: x.strip())\n",
    "# Đếm số lượng của từng giá trị có trong cột localtion\n",
    "location_status = df3['location'].value_counts(ascending=False)\n",
    "location_status"
   ]
  },
  {
   "cell_type": "markdown",
   "metadata": {},
   "source": [
    "TÍNH TỔNG TẤT CẢ CÁC GIÁ TRỊ TRÊN"
   ]
  },
  {
   "cell_type": "code",
   "execution_count": null,
   "metadata": {},
   "outputs": [],
   "source": [
    "location_status.values.sum()"
   ]
  },
  {
   "cell_type": "markdown",
   "metadata": {},
   "source": [
    "\n",
    "ĐẾM SỐ LƯỢNG PHẦN TỬ CÓ TRONG LOCATION_STATUS MÀ CÓ GIÁ TRỊ LỚN HƠN 10"
   ]
  },
  {
   "cell_type": "code",
   "execution_count": null,
   "metadata": {},
   "outputs": [],
   "source": [
    "len(location_status[location_status > 10])"
   ]
  },
  {
   "cell_type": "markdown",
   "metadata": {},
   "source": [
    "\n",
    "ĐẾM SỐ LƯỢNG PHẦN TỬ CÓ TRONG LOCATION_STATUS MÀ CÓ GIÁ TRỊ NHỎ HƠN HOẶC BẰNG 10"
   ]
  },
  {
   "cell_type": "code",
   "execution_count": null,
   "metadata": {},
   "outputs": [],
   "source": [
    "len(location_status[location_status <= 10])"
   ]
  },
  {
   "cell_type": "markdown",
   "metadata": {},
   "source": [
    "GIẢM CHIỀU DỮ LIỆU"
   ]
  },
  {
   "cell_type": "code",
   "execution_count": null,
   "metadata": {},
   "outputs": [],
   "source": [
    "location_status_less_than_10 = location_status[location_status<=10]\n",
    "location_status_less_than_10"
   ]
  },
  {
   "cell_type": "markdown",
   "metadata": {},
   "source": [
    "THAY THẾ CÁC GIÁ TRỊ TRÊN BẰNG 'ORDER' CÒN CÁC GIÁ TRỊ KHÁC THÌ GIỮ NGUYÊN"
   ]
  },
  {
   "cell_type": "code",
   "execution_count": null,
   "metadata": {},
   "outputs": [],
   "source": [
    "df3.location = df3.location.apply(lambda x: 'other' if x in location_status_less_than_10 else x)\n",
    "len(df3.location.unique())"
   ]
  },
  {
   "cell_type": "code",
   "execution_count": null,
   "metadata": {},
   "outputs": [],
   "source": [
    "df3.sample(10)"
   ]
  },
  {
   "cell_type": "markdown",
   "metadata": {},
   "source": [
    "- Như ta thấy, một số location đã được chuyển thành other "
   ]
  },
  {
   "cell_type": "markdown",
   "metadata": {},
   "source": [
    "LOẠI BỎ OUTLIER SỬ DỤNG BUSINESS LOGIC"
   ]
  },
  {
   "cell_type": "markdown",
   "metadata": {},
   "source": [
    "Thông thường mỗi phòng có diện tích là 300 feet vuông, nên ta sẽ loại bỏ những điểm dữ liệu mà nhỏ hơn số này là outlier"
   ]
  },
  {
   "cell_type": "code",
   "execution_count": null,
   "metadata": {},
   "outputs": [],
   "source": [
    "df3[(df3['total_sqft']/df3['bhk'])<300].shape"
   ]
  },
  {
   "cell_type": "markdown",
   "metadata": {},
   "source": [
    "- Sẽ có 744 hàng không đạt diện tích tối thiểu, và chúng sẽ được loại bỏ khỏi tập dữ liệu df3"
   ]
  },
  {
   "cell_type": "code",
   "execution_count": null,
   "metadata": {},
   "outputs": [],
   "source": [
    "df4 = df3[~(df3['total_sqft']/df3['bhk']<300)]\n",
    "df4.shape"
   ]
  },
  {
   "cell_type": "markdown",
   "metadata": {},
   "source": [
    "- Lấy giá trị đảo của câu lệnh trên bằng dấu ngã '~' \n",
    "- Như vậy còn 12502 dòng sẽ được giữ lại để tiếp tục phân tích "
   ]
  },
  {
   "cell_type": "markdown",
   "metadata": {},
   "source": [
    "LOẠI BỎ OUTLIER BẰNG ĐỘ LỆCH CHUẨN VÀ GIÁ TRỊ TRUNG BÌNH"
   ]
  },
  {
   "cell_type": "code",
   "execution_count": null,
   "metadata": {},
   "outputs": [],
   "source": [
    "a= df4.price_per_sqf"
   ]
  }
 ],
 "metadata": {
  "kernelspec": {
   "display_name": "Python 3",
   "language": "python",
   "name": "python3"
  },
  "language_info": {
   "codemirror_mode": {
    "name": "ipython",
    "version": 3
   },
   "file_extension": ".py",
   "mimetype": "text/x-python",
   "name": "python",
   "nbconvert_exporter": "python",
   "pygments_lexer": "ipython3",
   "version": "3.12.0"
  }
 },
 "nbformat": 4,
 "nbformat_minor": 2
}
