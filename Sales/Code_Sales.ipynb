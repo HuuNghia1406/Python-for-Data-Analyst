{
 "cells": [
  {
   "cell_type": "markdown",
   "metadata": {},
   "source": [
    "# SALES - Excel Data with Python Pandas\n",
    "#### Võ Hửu Nghĩa"
   ]
  },
  {
   "cell_type": "markdown",
   "metadata": {},
   "source": [
    "QUESTIONS:\n",
    "1. What wes the best month for sales? How much was earned the month?\n",
    "2. What city has the best sales?\n",
    "3. What time should we display ads to maximize the likelihood of customer's by product?\n",
    "4. What products are most often sold together?\n",
    "5. What product sold the most? Why do you think it sold the most?"
   ]
  },
  {
   "cell_type": "markdown",
   "metadata": {},
   "source": [
    "\n",
    " IMPORT CÁC THƯ VIỆN CẦN THIẾT"
   ]
  },
  {
   "cell_type": "code",
   "execution_count": 36,
   "metadata": {},
   "outputs": [],
   "source": [
    "import pandas as pd\n",
    "import os\n",
    "import numpy as np\n",
    "import seaborn as sns\n",
    "import matplotlib.pyplot as plt\n",
    "import matplotlib\n",
    "%matplotlib inline"
   ]
  },
  {
   "cell_type": "markdown",
   "metadata": {},
   "source": [
    "ĐỌC TẬP DỮ LIỆU BẰNG THƯ VIỆN PANDAS"
   ]
  },
  {
   "cell_type": "code",
   "execution_count": 37,
   "metadata": {},
   "outputs": [
    {
     "data": {
      "text/html": [
       "<div>\n",
       "<style scoped>\n",
       "    .dataframe tbody tr th:only-of-type {\n",
       "        vertical-align: middle;\n",
       "    }\n",
       "\n",
       "    .dataframe tbody tr th {\n",
       "        vertical-align: top;\n",
       "    }\n",
       "\n",
       "    .dataframe thead th {\n",
       "        text-align: right;\n",
       "    }\n",
       "</style>\n",
       "<table border=\"1\" class=\"dataframe\">\n",
       "  <thead>\n",
       "    <tr style=\"text-align: right;\">\n",
       "      <th></th>\n",
       "      <th>Order ID</th>\n",
       "      <th>Product</th>\n",
       "      <th>Quantity Ordered</th>\n",
       "      <th>Price Each</th>\n",
       "      <th>Order Date</th>\n",
       "      <th>Purchase Address</th>\n",
       "    </tr>\n",
       "  </thead>\n",
       "  <tbody>\n",
       "    <tr>\n",
       "      <th>0</th>\n",
       "      <td>141234</td>\n",
       "      <td>iPhone</td>\n",
       "      <td>1</td>\n",
       "      <td>700</td>\n",
       "      <td>01/22/19 21:25</td>\n",
       "      <td>944 Walnut St, Boston, MA 02215</td>\n",
       "    </tr>\n",
       "    <tr>\n",
       "      <th>1</th>\n",
       "      <td>141235</td>\n",
       "      <td>Lightning Charging Cable</td>\n",
       "      <td>1</td>\n",
       "      <td>14.95</td>\n",
       "      <td>01/28/19 14:15</td>\n",
       "      <td>185 Maple St, Portland, OR 97035</td>\n",
       "    </tr>\n",
       "    <tr>\n",
       "      <th>2</th>\n",
       "      <td>141236</td>\n",
       "      <td>Wired Headphones</td>\n",
       "      <td>2</td>\n",
       "      <td>11.99</td>\n",
       "      <td>01/17/19 13:33</td>\n",
       "      <td>538 Adams St, San Francisco, CA 94016</td>\n",
       "    </tr>\n",
       "    <tr>\n",
       "      <th>3</th>\n",
       "      <td>141237</td>\n",
       "      <td>27in FHD Monitor</td>\n",
       "      <td>1</td>\n",
       "      <td>149.99</td>\n",
       "      <td>01/05/19 20:33</td>\n",
       "      <td>738 10th St, Los Angeles, CA 90001</td>\n",
       "    </tr>\n",
       "    <tr>\n",
       "      <th>4</th>\n",
       "      <td>141238</td>\n",
       "      <td>Wired Headphones</td>\n",
       "      <td>1</td>\n",
       "      <td>11.99</td>\n",
       "      <td>01/25/19 11:59</td>\n",
       "      <td>387 10th St, Austin, TX 73301</td>\n",
       "    </tr>\n",
       "  </tbody>\n",
       "</table>\n",
       "</div>"
      ],
      "text/plain": [
       "  Order ID                   Product Quantity Ordered Price Each  \\\n",
       "0   141234                    iPhone                1        700   \n",
       "1   141235  Lightning Charging Cable                1      14.95   \n",
       "2   141236          Wired Headphones                2      11.99   \n",
       "3   141237          27in FHD Monitor                1     149.99   \n",
       "4   141238          Wired Headphones                1      11.99   \n",
       "\n",
       "       Order Date                       Purchase Address  \n",
       "0  01/22/19 21:25        944 Walnut St, Boston, MA 02215  \n",
       "1  01/28/19 14:15       185 Maple St, Portland, OR 97035  \n",
       "2  01/17/19 13:33  538 Adams St, San Francisco, CA 94016  \n",
       "3  01/05/19 20:33     738 10th St, Los Angeles, CA 90001  \n",
       "4  01/25/19 11:59          387 10th St, Austin, TX 73301  "
      ]
     },
     "execution_count": 37,
     "metadata": {},
     "output_type": "execute_result"
    }
   ],
   "source": [
    "path = 'D:/Python-for-Data-Analyst/DataSet/Sales Reporting/'\n",
    "dataframe = pd.read_csv(path + 'sales2019_1.csv')\n",
    "dataframe.head()"
   ]
  },
  {
   "cell_type": "markdown",
   "metadata": {},
   "source": [
    "GỘP CÁC TẬP DỮ LIỆU LẠI"
   ]
  },
  {
   "cell_type": "code",
   "execution_count": 38,
   "metadata": {},
   "outputs": [
    {
     "name": "stdout",
     "output_type": "stream",
     "text": [
      "      Order ID                   Product Quantity Ordered Price Each  \\\n",
      "0       141234                    iPhone                1        700   \n",
      "1       141235  Lightning Charging Cable                1      14.95   \n",
      "2       141236          Wired Headphones                2      11.99   \n",
      "3       141237          27in FHD Monitor                1     149.99   \n",
      "4       141238          Wired Headphones                1      11.99   \n",
      "...        ...                       ...              ...        ...   \n",
      "11681   259353    AAA Batteries (4-pack)                3       2.99   \n",
      "11682   259354                    iPhone                1        700   \n",
      "11683   259355                    iPhone                1        700   \n",
      "11684   259356    34in Ultrawide Monitor                1     379.99   \n",
      "11685   259357      USB-C Charging Cable                1      11.95   \n",
      "\n",
      "           Order Date                         Purchase Address  \n",
      "0      01/22/19 21:25          944 Walnut St, Boston, MA 02215  \n",
      "1      01/28/19 14:15         185 Maple St, Portland, OR 97035  \n",
      "2      01/17/19 13:33    538 Adams St, San Francisco, CA 94016  \n",
      "3      01/05/19 20:33       738 10th St, Los Angeles, CA 90001  \n",
      "4      01/25/19 11:59            387 10th St, Austin, TX 73301  \n",
      "...               ...                                      ...  \n",
      "11681  09/17/19 20:56   840 Highland St, Los Angeles, CA 90001  \n",
      "11682  09/01/19 16:00  216 Dogwood St, San Francisco, CA 94016  \n",
      "11683  09/23/19 07:39     220 12th St, San Francisco, CA 94016  \n",
      "11684  09/19/19 17:30   511 Forest St, San Francisco, CA 94016  \n",
      "11685  09/30/19 00:18   250 Meadow St, San Francisco, CA 94016  \n",
      "\n",
      "[186850 rows x 6 columns] 186850\n"
     ]
    }
   ],
   "source": [
    "df = []\n",
    "all_length = []\n",
    "for file in os.listdir(path):\n",
    "    # Trường hợp chỉ mún lấy các file theo mong mún, vd có đuôi .csv\n",
    "    if file.endswith('.csv'):\n",
    "        filepath = path + file\n",
    "        df1 = pd.read_csv(filepath)\n",
    "        df.append(df1)\n",
    "        length_1month = len(df1.index)\n",
    "        all_length.append(length_1month)\n",
    "# Gộp các kết quả lại với nhau\n",
    "result = pd.concat(df)\n",
    "print(result,sum(all_length))\n",
    "\n"
   ]
  },
  {
   "cell_type": "markdown",
   "metadata": {},
   "source": [
    "- Có thể thấy độ dài của 2 kết quả bằng nhau. Điều này chứng tỏ phép gộp các bảng lại với nhau đã thành công "
   ]
  },
  {
   "cell_type": "markdown",
   "metadata": {},
   "source": [
    "LƯU TẬP TIN LẠI "
   ]
  },
  {
   "cell_type": "code",
   "execution_count": 39,
   "metadata": {},
   "outputs": [],
   "source": [
    "result.to_csv('Sales2019.csv',index=False)"
   ]
  },
  {
   "cell_type": "code",
   "execution_count": 40,
   "metadata": {},
   "outputs": [
    {
     "name": "stdout",
     "output_type": "stream",
     "text": [
      "<class 'pandas.core.frame.DataFrame'>\n",
      "Index: 186850 entries, 0 to 11685\n",
      "Data columns (total 6 columns):\n",
      " #   Column            Non-Null Count   Dtype \n",
      "---  ------            --------------   ----- \n",
      " 0   Order ID          186305 non-null  object\n",
      " 1   Product           186305 non-null  object\n",
      " 2   Quantity Ordered  186305 non-null  object\n",
      " 3   Price Each        186305 non-null  object\n",
      " 4   Order Date        186305 non-null  object\n",
      " 5   Purchase Address  186305 non-null  object\n",
      "dtypes: object(6)\n",
      "memory usage: 10.0+ MB\n"
     ]
    }
   ],
   "source": [
    "result.info()"
   ]
  },
  {
   "cell_type": "markdown",
   "metadata": {},
   "source": [
    "TẠO CỘT MỚI GÁN DỮ LIỆU TỪ CỘT THÁNG TRONG ORDER DATE"
   ]
  },
  {
   "cell_type": "code",
   "execution_count": 41,
   "metadata": {},
   "outputs": [
    {
     "data": {
      "text/html": [
       "<div>\n",
       "<style scoped>\n",
       "    .dataframe tbody tr th:only-of-type {\n",
       "        vertical-align: middle;\n",
       "    }\n",
       "\n",
       "    .dataframe tbody tr th {\n",
       "        vertical-align: top;\n",
       "    }\n",
       "\n",
       "    .dataframe thead th {\n",
       "        text-align: right;\n",
       "    }\n",
       "</style>\n",
       "<table border=\"1\" class=\"dataframe\">\n",
       "  <thead>\n",
       "    <tr style=\"text-align: right;\">\n",
       "      <th></th>\n",
       "      <th>Order ID</th>\n",
       "      <th>Product</th>\n",
       "      <th>Quantity Ordered</th>\n",
       "      <th>Price Each</th>\n",
       "      <th>Order Date</th>\n",
       "      <th>Purchase Address</th>\n",
       "      <th>Month</th>\n",
       "    </tr>\n",
       "  </thead>\n",
       "  <tbody>\n",
       "    <tr>\n",
       "      <th>9435</th>\n",
       "      <td>218913</td>\n",
       "      <td>ThinkPad Laptop</td>\n",
       "      <td>1</td>\n",
       "      <td>999.99</td>\n",
       "      <td>06/01/19 18:33</td>\n",
       "      <td>726 Lincoln St, Boston, MA 02215</td>\n",
       "      <td>06</td>\n",
       "    </tr>\n",
       "    <tr>\n",
       "      <th>22315</th>\n",
       "      <td>316980</td>\n",
       "      <td>Flatscreen TV</td>\n",
       "      <td>1</td>\n",
       "      <td>300</td>\n",
       "      <td>12/31/19 11:20</td>\n",
       "      <td>107 10th St, Los Angeles, CA 90001</td>\n",
       "      <td>12</td>\n",
       "    </tr>\n",
       "    <tr>\n",
       "      <th>147</th>\n",
       "      <td>236813</td>\n",
       "      <td>Lightning Charging Cable</td>\n",
       "      <td>1</td>\n",
       "      <td>14.95</td>\n",
       "      <td>08/04/19 15:29</td>\n",
       "      <td>170 West St, Los Angeles, CA 90001</td>\n",
       "      <td>08</td>\n",
       "    </tr>\n",
       "    <tr>\n",
       "      <th>15810</th>\n",
       "      <td>274439</td>\n",
       "      <td>Lightning Charging Cable</td>\n",
       "      <td>1</td>\n",
       "      <td>14.95</td>\n",
       "      <td>10/24/19 04:39</td>\n",
       "      <td>998 Adams St, Dallas, TX 75001</td>\n",
       "      <td>10</td>\n",
       "    </tr>\n",
       "    <tr>\n",
       "      <th>12790</th>\n",
       "      <td>235153</td>\n",
       "      <td>27in 4K Gaming Monitor</td>\n",
       "      <td>1</td>\n",
       "      <td>389.99</td>\n",
       "      <td>07/05/19 12:43</td>\n",
       "      <td>166 Madison St, San Francisco, CA 94016</td>\n",
       "      <td>07</td>\n",
       "    </tr>\n",
       "  </tbody>\n",
       "</table>\n",
       "</div>"
      ],
      "text/plain": [
       "      Order ID                   Product Quantity Ordered Price Each  \\\n",
       "9435    218913           ThinkPad Laptop                1     999.99   \n",
       "22315   316980             Flatscreen TV                1        300   \n",
       "147     236813  Lightning Charging Cable                1      14.95   \n",
       "15810   274439  Lightning Charging Cable                1      14.95   \n",
       "12790   235153    27in 4K Gaming Monitor                1     389.99   \n",
       "\n",
       "           Order Date                         Purchase Address Month  \n",
       "9435   06/01/19 18:33         726 Lincoln St, Boston, MA 02215    06  \n",
       "22315  12/31/19 11:20       107 10th St, Los Angeles, CA 90001    12  \n",
       "147    08/04/19 15:29       170 West St, Los Angeles, CA 90001    08  \n",
       "15810  10/24/19 04:39           998 Adams St, Dallas, TX 75001    10  \n",
       "12790  07/05/19 12:43  166 Madison St, San Francisco, CA 94016    07  "
      ]
     },
     "execution_count": 41,
     "metadata": {},
     "output_type": "execute_result"
    }
   ],
   "source": [
    "result['Month'] = result['Order Date'].str[0:2:1]\n",
    "result.sample(5)"
   ]
  },
  {
   "cell_type": "markdown",
   "metadata": {},
   "source": [
    "LẤY RA TÊN CÁC GIÁ TRỊ TRONG THUỘC TÍNH MONTH"
   ]
  },
  {
   "cell_type": "code",
   "execution_count": 42,
   "metadata": {},
   "outputs": [
    {
     "name": "stdout",
     "output_type": "stream",
     "text": [
      "{'12', '04', nan, '05', '06', '03', '11', '08', '07', '02', '09', '01', '10', 'Or'}\n"
     ]
    }
   ],
   "source": [
    "print(set(result['Month']))"
   ]
  },
  {
   "cell_type": "markdown",
   "metadata": {},
   "source": [
    "- Ta thấy ngoài 12 tháng thì còn có giá trị ngoại lai là 'nan' và 'Or' . Ta cần phải loại bỏ chúng"
   ]
  },
  {
   "cell_type": "markdown",
   "metadata": {},
   "source": [
    "KIỂM TRA TỔNG GIÁ TRỊ NULL CỘT MONTH"
   ]
  },
  {
   "cell_type": "code",
   "execution_count": 43,
   "metadata": {},
   "outputs": [
    {
     "data": {
      "text/plain": [
       "545"
      ]
     },
     "execution_count": 43,
     "metadata": {},
     "output_type": "execute_result"
    }
   ],
   "source": [
    "result['Month'].isnull().sum()"
   ]
  },
  {
   "cell_type": "markdown",
   "metadata": {},
   "source": [
    "XÓA TẤT CẢ CÁC GIÁ TRỊ NULL TRONG TẬP DỮ LIỆU"
   ]
  },
  {
   "cell_type": "code",
   "execution_count": 44,
   "metadata": {},
   "outputs": [
    {
     "data": {
      "text/html": [
       "<div>\n",
       "<style scoped>\n",
       "    .dataframe tbody tr th:only-of-type {\n",
       "        vertical-align: middle;\n",
       "    }\n",
       "\n",
       "    .dataframe tbody tr th {\n",
       "        vertical-align: top;\n",
       "    }\n",
       "\n",
       "    .dataframe thead th {\n",
       "        text-align: right;\n",
       "    }\n",
       "</style>\n",
       "<table border=\"1\" class=\"dataframe\">\n",
       "  <thead>\n",
       "    <tr style=\"text-align: right;\">\n",
       "      <th></th>\n",
       "      <th>Order ID</th>\n",
       "      <th>Product</th>\n",
       "      <th>Quantity Ordered</th>\n",
       "      <th>Price Each</th>\n",
       "      <th>Order Date</th>\n",
       "      <th>Purchase Address</th>\n",
       "      <th>Month</th>\n",
       "    </tr>\n",
       "  </thead>\n",
       "  <tbody>\n",
       "    <tr>\n",
       "      <th>0</th>\n",
       "      <td>141234</td>\n",
       "      <td>iPhone</td>\n",
       "      <td>1</td>\n",
       "      <td>700</td>\n",
       "      <td>01/22/19 21:25</td>\n",
       "      <td>944 Walnut St, Boston, MA 02215</td>\n",
       "      <td>01</td>\n",
       "    </tr>\n",
       "    <tr>\n",
       "      <th>1</th>\n",
       "      <td>141235</td>\n",
       "      <td>Lightning Charging Cable</td>\n",
       "      <td>1</td>\n",
       "      <td>14.95</td>\n",
       "      <td>01/28/19 14:15</td>\n",
       "      <td>185 Maple St, Portland, OR 97035</td>\n",
       "      <td>01</td>\n",
       "    </tr>\n",
       "    <tr>\n",
       "      <th>2</th>\n",
       "      <td>141236</td>\n",
       "      <td>Wired Headphones</td>\n",
       "      <td>2</td>\n",
       "      <td>11.99</td>\n",
       "      <td>01/17/19 13:33</td>\n",
       "      <td>538 Adams St, San Francisco, CA 94016</td>\n",
       "      <td>01</td>\n",
       "    </tr>\n",
       "    <tr>\n",
       "      <th>3</th>\n",
       "      <td>141237</td>\n",
       "      <td>27in FHD Monitor</td>\n",
       "      <td>1</td>\n",
       "      <td>149.99</td>\n",
       "      <td>01/05/19 20:33</td>\n",
       "      <td>738 10th St, Los Angeles, CA 90001</td>\n",
       "      <td>01</td>\n",
       "    </tr>\n",
       "    <tr>\n",
       "      <th>4</th>\n",
       "      <td>141238</td>\n",
       "      <td>Wired Headphones</td>\n",
       "      <td>1</td>\n",
       "      <td>11.99</td>\n",
       "      <td>01/25/19 11:59</td>\n",
       "      <td>387 10th St, Austin, TX 73301</td>\n",
       "      <td>01</td>\n",
       "    </tr>\n",
       "    <tr>\n",
       "      <th>...</th>\n",
       "      <td>...</td>\n",
       "      <td>...</td>\n",
       "      <td>...</td>\n",
       "      <td>...</td>\n",
       "      <td>...</td>\n",
       "      <td>...</td>\n",
       "      <td>...</td>\n",
       "    </tr>\n",
       "    <tr>\n",
       "      <th>11681</th>\n",
       "      <td>259353</td>\n",
       "      <td>AAA Batteries (4-pack)</td>\n",
       "      <td>3</td>\n",
       "      <td>2.99</td>\n",
       "      <td>09/17/19 20:56</td>\n",
       "      <td>840 Highland St, Los Angeles, CA 90001</td>\n",
       "      <td>09</td>\n",
       "    </tr>\n",
       "    <tr>\n",
       "      <th>11682</th>\n",
       "      <td>259354</td>\n",
       "      <td>iPhone</td>\n",
       "      <td>1</td>\n",
       "      <td>700</td>\n",
       "      <td>09/01/19 16:00</td>\n",
       "      <td>216 Dogwood St, San Francisco, CA 94016</td>\n",
       "      <td>09</td>\n",
       "    </tr>\n",
       "    <tr>\n",
       "      <th>11683</th>\n",
       "      <td>259355</td>\n",
       "      <td>iPhone</td>\n",
       "      <td>1</td>\n",
       "      <td>700</td>\n",
       "      <td>09/23/19 07:39</td>\n",
       "      <td>220 12th St, San Francisco, CA 94016</td>\n",
       "      <td>09</td>\n",
       "    </tr>\n",
       "    <tr>\n",
       "      <th>11684</th>\n",
       "      <td>259356</td>\n",
       "      <td>34in Ultrawide Monitor</td>\n",
       "      <td>1</td>\n",
       "      <td>379.99</td>\n",
       "      <td>09/19/19 17:30</td>\n",
       "      <td>511 Forest St, San Francisco, CA 94016</td>\n",
       "      <td>09</td>\n",
       "    </tr>\n",
       "    <tr>\n",
       "      <th>11685</th>\n",
       "      <td>259357</td>\n",
       "      <td>USB-C Charging Cable</td>\n",
       "      <td>1</td>\n",
       "      <td>11.95</td>\n",
       "      <td>09/30/19 00:18</td>\n",
       "      <td>250 Meadow St, San Francisco, CA 94016</td>\n",
       "      <td>09</td>\n",
       "    </tr>\n",
       "  </tbody>\n",
       "</table>\n",
       "<p>186305 rows × 7 columns</p>\n",
       "</div>"
      ],
      "text/plain": [
       "      Order ID                   Product Quantity Ordered Price Each  \\\n",
       "0       141234                    iPhone                1        700   \n",
       "1       141235  Lightning Charging Cable                1      14.95   \n",
       "2       141236          Wired Headphones                2      11.99   \n",
       "3       141237          27in FHD Monitor                1     149.99   \n",
       "4       141238          Wired Headphones                1      11.99   \n",
       "...        ...                       ...              ...        ...   \n",
       "11681   259353    AAA Batteries (4-pack)                3       2.99   \n",
       "11682   259354                    iPhone                1        700   \n",
       "11683   259355                    iPhone                1        700   \n",
       "11684   259356    34in Ultrawide Monitor                1     379.99   \n",
       "11685   259357      USB-C Charging Cable                1      11.95   \n",
       "\n",
       "           Order Date                         Purchase Address Month  \n",
       "0      01/22/19 21:25          944 Walnut St, Boston, MA 02215    01  \n",
       "1      01/28/19 14:15         185 Maple St, Portland, OR 97035    01  \n",
       "2      01/17/19 13:33    538 Adams St, San Francisco, CA 94016    01  \n",
       "3      01/05/19 20:33       738 10th St, Los Angeles, CA 90001    01  \n",
       "4      01/25/19 11:59            387 10th St, Austin, TX 73301    01  \n",
       "...               ...                                      ...   ...  \n",
       "11681  09/17/19 20:56   840 Highland St, Los Angeles, CA 90001    09  \n",
       "11682  09/01/19 16:00  216 Dogwood St, San Francisco, CA 94016    09  \n",
       "11683  09/23/19 07:39     220 12th St, San Francisco, CA 94016    09  \n",
       "11684  09/19/19 17:30   511 Forest St, San Francisco, CA 94016    09  \n",
       "11685  09/30/19 00:18   250 Meadow St, San Francisco, CA 94016    09  \n",
       "\n",
       "[186305 rows x 7 columns]"
      ]
     },
     "execution_count": 44,
     "metadata": {},
     "output_type": "execute_result"
    }
   ],
   "source": [
    "result = result.dropna(how = 'all')\n",
    "result"
   ]
  },
  {
   "cell_type": "markdown",
   "metadata": {},
   "source": [
    "KIỂM TRA LẠI CÁC GIÁ TRỊ CÓ TRONG MONTH"
   ]
  },
  {
   "cell_type": "code",
   "execution_count": 45,
   "metadata": {},
   "outputs": [
    {
     "name": "stdout",
     "output_type": "stream",
     "text": [
      "{'12', '04', '05', '06', '03', '11', '08', '07', '02', '09', '01', '10', 'Or'}\n"
     ]
    }
   ],
   "source": [
    "print(set(result['Month']))"
   ]
  },
  {
   "cell_type": "markdown",
   "metadata": {},
   "source": [
    "- Mặc dù đã loại bỏ được giá trị 'nan', nhưng vẫn còn giá trị 'Or'"
   ]
  },
  {
   "cell_type": "markdown",
   "metadata": {},
   "source": [
    "LOẠI BỎ GIÁ TRỊ OR"
   ]
  },
  {
   "cell_type": "code",
   "execution_count": 46,
   "metadata": {},
   "outputs": [
    {
     "data": {
      "text/html": [
       "<div>\n",
       "<style scoped>\n",
       "    .dataframe tbody tr th:only-of-type {\n",
       "        vertical-align: middle;\n",
       "    }\n",
       "\n",
       "    .dataframe tbody tr th {\n",
       "        vertical-align: top;\n",
       "    }\n",
       "\n",
       "    .dataframe thead th {\n",
       "        text-align: right;\n",
       "    }\n",
       "</style>\n",
       "<table border=\"1\" class=\"dataframe\">\n",
       "  <thead>\n",
       "    <tr style=\"text-align: right;\">\n",
       "      <th></th>\n",
       "      <th>Order ID</th>\n",
       "      <th>Product</th>\n",
       "      <th>Quantity Ordered</th>\n",
       "      <th>Price Each</th>\n",
       "      <th>Order Date</th>\n",
       "      <th>Purchase Address</th>\n",
       "      <th>Month</th>\n",
       "    </tr>\n",
       "  </thead>\n",
       "  <tbody>\n",
       "    <tr>\n",
       "      <th>3061</th>\n",
       "      <td>153423</td>\n",
       "      <td>AA Batteries (4-pack)</td>\n",
       "      <td>2</td>\n",
       "      <td>3.84</td>\n",
       "      <td>02/10/19 17:05</td>\n",
       "      <td>246 Johnson St, Dallas, TX 75001</td>\n",
       "      <td>02</td>\n",
       "    </tr>\n",
       "    <tr>\n",
       "      <th>24249</th>\n",
       "      <td>318832</td>\n",
       "      <td>AAA Batteries (4-pack)</td>\n",
       "      <td>3</td>\n",
       "      <td>2.99</td>\n",
       "      <td>12/21/19 11:17</td>\n",
       "      <td>791 Hickory St, Atlanta, GA 30301</td>\n",
       "      <td>12</td>\n",
       "    </tr>\n",
       "    <tr>\n",
       "      <th>9547</th>\n",
       "      <td>257316</td>\n",
       "      <td>Google Phone</td>\n",
       "      <td>1</td>\n",
       "      <td>600</td>\n",
       "      <td>09/02/19 19:17</td>\n",
       "      <td>673 South St, San Francisco, CA 94016</td>\n",
       "      <td>09</td>\n",
       "    </tr>\n",
       "    <tr>\n",
       "      <th>8839</th>\n",
       "      <td>231354</td>\n",
       "      <td>USB-C Charging Cable</td>\n",
       "      <td>1</td>\n",
       "      <td>11.95</td>\n",
       "      <td>07/05/19 23:58</td>\n",
       "      <td>336 South St, New York City, NY 10001</td>\n",
       "      <td>07</td>\n",
       "    </tr>\n",
       "    <tr>\n",
       "      <th>7407</th>\n",
       "      <td>157553</td>\n",
       "      <td>Wired Headphones</td>\n",
       "      <td>1</td>\n",
       "      <td>11.99</td>\n",
       "      <td>02/03/19 21:39</td>\n",
       "      <td>317 Dogwood St, Dallas, TX 75001</td>\n",
       "      <td>02</td>\n",
       "    </tr>\n",
       "  </tbody>\n",
       "</table>\n",
       "</div>"
      ],
      "text/plain": [
       "      Order ID                 Product Quantity Ordered Price Each  \\\n",
       "3061    153423   AA Batteries (4-pack)                2       3.84   \n",
       "24249   318832  AAA Batteries (4-pack)                3       2.99   \n",
       "9547    257316            Google Phone                1        600   \n",
       "8839    231354    USB-C Charging Cable                1      11.95   \n",
       "7407    157553        Wired Headphones                1      11.99   \n",
       "\n",
       "           Order Date                       Purchase Address Month  \n",
       "3061   02/10/19 17:05       246 Johnson St, Dallas, TX 75001    02  \n",
       "24249  12/21/19 11:17      791 Hickory St, Atlanta, GA 30301    12  \n",
       "9547   09/02/19 19:17  673 South St, San Francisco, CA 94016    09  \n",
       "8839   07/05/19 23:58  336 South St, New York City, NY 10001    07  \n",
       "7407   02/03/19 21:39       317 Dogwood St, Dallas, TX 75001    02  "
      ]
     },
     "execution_count": 46,
     "metadata": {},
     "output_type": "execute_result"
    }
   ],
   "source": [
    "result = result[result['Month']!='Or']\n",
    "result.sample(5)"
   ]
  },
  {
   "cell_type": "code",
   "execution_count": 47,
   "metadata": {},
   "outputs": [
    {
     "name": "stdout",
     "output_type": "stream",
     "text": [
      "{'12', '04', '05', '06', '03', '11', '08', '07', '02', '09', '01', '10'}\n"
     ]
    }
   ],
   "source": [
    "print(set(result['Month']))"
   ]
  },
  {
   "cell_type": "markdown",
   "metadata": {},
   "source": [
    "-Kết quả đã đúng như mong muốn là đã loại bỏ giá trị 'nan' và 'Or'"
   ]
  },
  {
   "cell_type": "markdown",
   "metadata": {},
   "source": [
    "1. What wes the best month for sales? How much was earned the month?"
   ]
  },
  {
   "cell_type": "code",
   "execution_count": 48,
   "metadata": {},
   "outputs": [],
   "source": [
    "#result['Sales'] = result['Price Each'] * result['Quantity Ordered']"
   ]
  },
  {
   "cell_type": "markdown",
   "metadata": {},
   "source": [
    "HIỂN THỊ CHI TIẾT CÁC THUỘC TÍNH"
   ]
  },
  {
   "cell_type": "code",
   "execution_count": 49,
   "metadata": {},
   "outputs": [
    {
     "name": "stdout",
     "output_type": "stream",
     "text": [
      "<class 'pandas.core.frame.DataFrame'>\n",
      "Index: 185950 entries, 0 to 11685\n",
      "Data columns (total 7 columns):\n",
      " #   Column            Non-Null Count   Dtype \n",
      "---  ------            --------------   ----- \n",
      " 0   Order ID          185950 non-null  object\n",
      " 1   Product           185950 non-null  object\n",
      " 2   Quantity Ordered  185950 non-null  object\n",
      " 3   Price Each        185950 non-null  object\n",
      " 4   Order Date        185950 non-null  object\n",
      " 5   Purchase Address  185950 non-null  object\n",
      " 6   Month             185950 non-null  object\n",
      "dtypes: object(7)\n",
      "memory usage: 11.3+ MB\n"
     ]
    }
   ],
   "source": [
    "result.info()"
   ]
  },
  {
   "cell_type": "markdown",
   "metadata": {},
   "source": [
    "ĐỔI KIỂU DỮ LIỆU CHO 2 THUỘC TÍNH PRICE EACH VÀ QUANTIRY ORDERED"
   ]
  },
  {
   "cell_type": "code",
   "execution_count": 50,
   "metadata": {},
   "outputs": [
    {
     "name": "stderr",
     "output_type": "stream",
     "text": [
      "C:\\Users\\vhngh\\AppData\\Local\\Temp\\ipykernel_13232\\2219999650.py:1: SettingWithCopyWarning: \n",
      "A value is trying to be set on a copy of a slice from a DataFrame.\n",
      "Try using .loc[row_indexer,col_indexer] = value instead\n",
      "\n",
      "See the caveats in the documentation: https://pandas.pydata.org/pandas-docs/stable/user_guide/indexing.html#returning-a-view-versus-a-copy\n",
      "  result['Price Each'] = result['Price Each'].astype('float64')\n",
      "C:\\Users\\vhngh\\AppData\\Local\\Temp\\ipykernel_13232\\2219999650.py:2: SettingWithCopyWarning: \n",
      "A value is trying to be set on a copy of a slice from a DataFrame.\n",
      "Try using .loc[row_indexer,col_indexer] = value instead\n",
      "\n",
      "See the caveats in the documentation: https://pandas.pydata.org/pandas-docs/stable/user_guide/indexing.html#returning-a-view-versus-a-copy\n",
      "  result['Quantity Ordered'] = result['Quantity Ordered'].astype('float64');\n"
     ]
    }
   ],
   "source": [
    "result['Price Each'] = result['Price Each'].astype('float64')\n",
    "result['Quantity Ordered'] = result['Quantity Ordered'].astype('float64');\n"
   ]
  },
  {
   "cell_type": "code",
   "execution_count": 51,
   "metadata": {},
   "outputs": [
    {
     "name": "stdout",
     "output_type": "stream",
     "text": [
      "<class 'pandas.core.frame.DataFrame'>\n",
      "Index: 185950 entries, 0 to 11685\n",
      "Data columns (total 7 columns):\n",
      " #   Column            Non-Null Count   Dtype  \n",
      "---  ------            --------------   -----  \n",
      " 0   Order ID          185950 non-null  object \n",
      " 1   Product           185950 non-null  object \n",
      " 2   Quantity Ordered  185950 non-null  float64\n",
      " 3   Price Each        185950 non-null  float64\n",
      " 4   Order Date        185950 non-null  object \n",
      " 5   Purchase Address  185950 non-null  object \n",
      " 6   Month             185950 non-null  object \n",
      "dtypes: float64(2), object(5)\n",
      "memory usage: 11.3+ MB\n"
     ]
    }
   ],
   "source": [
    "result.info()"
   ]
  },
  {
   "cell_type": "markdown",
   "metadata": {},
   "source": [
    "TẠO RA CỘT SALES BẰNG CÁCH NHÂN 2 GIÁ TRỊ PRICE EACH VÀ QUANTITY ORDERED"
   ]
  },
  {
   "cell_type": "code",
   "execution_count": 52,
   "metadata": {},
   "outputs": [
    {
     "name": "stderr",
     "output_type": "stream",
     "text": [
      "C:\\Users\\vhngh\\AppData\\Local\\Temp\\ipykernel_13232\\2084549867.py:1: SettingWithCopyWarning: \n",
      "A value is trying to be set on a copy of a slice from a DataFrame.\n",
      "Try using .loc[row_indexer,col_indexer] = value instead\n",
      "\n",
      "See the caveats in the documentation: https://pandas.pydata.org/pandas-docs/stable/user_guide/indexing.html#returning-a-view-versus-a-copy\n",
      "  result['Sales'] = result['Price Each'] * result['Quantity Ordered']\n"
     ]
    }
   ],
   "source": [
    "result['Sales'] = result['Price Each'] * result['Quantity Ordered']\n"
   ]
  },
  {
   "cell_type": "code",
   "execution_count": 53,
   "metadata": {},
   "outputs": [
    {
     "data": {
      "text/html": [
       "<div>\n",
       "<style scoped>\n",
       "    .dataframe tbody tr th:only-of-type {\n",
       "        vertical-align: middle;\n",
       "    }\n",
       "\n",
       "    .dataframe tbody tr th {\n",
       "        vertical-align: top;\n",
       "    }\n",
       "\n",
       "    .dataframe thead th {\n",
       "        text-align: right;\n",
       "    }\n",
       "</style>\n",
       "<table border=\"1\" class=\"dataframe\">\n",
       "  <thead>\n",
       "    <tr style=\"text-align: right;\">\n",
       "      <th></th>\n",
       "      <th>Order ID</th>\n",
       "      <th>Product</th>\n",
       "      <th>Quantity Ordered</th>\n",
       "      <th>Price Each</th>\n",
       "      <th>Order Date</th>\n",
       "      <th>Purchase Address</th>\n",
       "      <th>Month</th>\n",
       "      <th>Sales</th>\n",
       "    </tr>\n",
       "  </thead>\n",
       "  <tbody>\n",
       "    <tr>\n",
       "      <th>4090</th>\n",
       "      <td>165898</td>\n",
       "      <td>Flatscreen TV</td>\n",
       "      <td>1.0</td>\n",
       "      <td>300.0</td>\n",
       "      <td>03/18/19 14:32</td>\n",
       "      <td>918 Lincoln St, Boston, MA 02215</td>\n",
       "      <td>03</td>\n",
       "      <td>300.0</td>\n",
       "    </tr>\n",
       "    <tr>\n",
       "      <th>443</th>\n",
       "      <td>176982</td>\n",
       "      <td>iPhone</td>\n",
       "      <td>1.0</td>\n",
       "      <td>700.0</td>\n",
       "      <td>04/14/19 13:53</td>\n",
       "      <td>237 Lake St, Los Angeles, CA 90001</td>\n",
       "      <td>04</td>\n",
       "      <td>700.0</td>\n",
       "    </tr>\n",
       "    <tr>\n",
       "      <th>6841</th>\n",
       "      <td>254709</td>\n",
       "      <td>Macbook Pro Laptop</td>\n",
       "      <td>1.0</td>\n",
       "      <td>1700.0</td>\n",
       "      <td>09/13/19 09:02</td>\n",
       "      <td>731 Cherry St, Atlanta, GA 30301</td>\n",
       "      <td>09</td>\n",
       "      <td>1700.0</td>\n",
       "    </tr>\n",
       "  </tbody>\n",
       "</table>\n",
       "</div>"
      ],
      "text/plain": [
       "     Order ID             Product  Quantity Ordered  Price Each  \\\n",
       "4090   165898       Flatscreen TV               1.0       300.0   \n",
       "443    176982              iPhone               1.0       700.0   \n",
       "6841   254709  Macbook Pro Laptop               1.0      1700.0   \n",
       "\n",
       "          Order Date                    Purchase Address Month   Sales  \n",
       "4090  03/18/19 14:32    918 Lincoln St, Boston, MA 02215    03   300.0  \n",
       "443   04/14/19 13:53  237 Lake St, Los Angeles, CA 90001    04   700.0  \n",
       "6841  09/13/19 09:02    731 Cherry St, Atlanta, GA 30301    09  1700.0  "
      ]
     },
     "execution_count": 53,
     "metadata": {},
     "output_type": "execute_result"
    }
   ],
   "source": [
    "result.sample(3)"
   ]
  },
  {
   "cell_type": "markdown",
   "metadata": {},
   "source": [
    "DI CHUYỂN CỘT SALES SANG GẦN 2 CỘT TRÊN ĐỂ QUAN SÁT"
   ]
  },
  {
   "cell_type": "code",
   "execution_count": 54,
   "metadata": {},
   "outputs": [
    {
     "data": {
      "text/html": [
       "<div>\n",
       "<style scoped>\n",
       "    .dataframe tbody tr th:only-of-type {\n",
       "        vertical-align: middle;\n",
       "    }\n",
       "\n",
       "    .dataframe tbody tr th {\n",
       "        vertical-align: top;\n",
       "    }\n",
       "\n",
       "    .dataframe thead th {\n",
       "        text-align: right;\n",
       "    }\n",
       "</style>\n",
       "<table border=\"1\" class=\"dataframe\">\n",
       "  <thead>\n",
       "    <tr style=\"text-align: right;\">\n",
       "      <th></th>\n",
       "      <th>Order ID</th>\n",
       "      <th>Product</th>\n",
       "      <th>Quantity Ordered</th>\n",
       "      <th>Price Each</th>\n",
       "      <th>Sales</th>\n",
       "      <th>Order Date</th>\n",
       "      <th>Purchase Address</th>\n",
       "      <th>Month</th>\n",
       "    </tr>\n",
       "  </thead>\n",
       "  <tbody>\n",
       "    <tr>\n",
       "      <th>0</th>\n",
       "      <td>141234</td>\n",
       "      <td>iPhone</td>\n",
       "      <td>1.0</td>\n",
       "      <td>700.00</td>\n",
       "      <td>700.00</td>\n",
       "      <td>01/22/19 21:25</td>\n",
       "      <td>944 Walnut St, Boston, MA 02215</td>\n",
       "      <td>01</td>\n",
       "    </tr>\n",
       "    <tr>\n",
       "      <th>1</th>\n",
       "      <td>141235</td>\n",
       "      <td>Lightning Charging Cable</td>\n",
       "      <td>1.0</td>\n",
       "      <td>14.95</td>\n",
       "      <td>14.95</td>\n",
       "      <td>01/28/19 14:15</td>\n",
       "      <td>185 Maple St, Portland, OR 97035</td>\n",
       "      <td>01</td>\n",
       "    </tr>\n",
       "    <tr>\n",
       "      <th>2</th>\n",
       "      <td>141236</td>\n",
       "      <td>Wired Headphones</td>\n",
       "      <td>2.0</td>\n",
       "      <td>11.99</td>\n",
       "      <td>23.98</td>\n",
       "      <td>01/17/19 13:33</td>\n",
       "      <td>538 Adams St, San Francisco, CA 94016</td>\n",
       "      <td>01</td>\n",
       "    </tr>\n",
       "  </tbody>\n",
       "</table>\n",
       "</div>"
      ],
      "text/plain": [
       "  Order ID                   Product  Quantity Ordered  Price Each   Sales  \\\n",
       "0   141234                    iPhone               1.0      700.00  700.00   \n",
       "1   141235  Lightning Charging Cable               1.0       14.95   14.95   \n",
       "2   141236          Wired Headphones               2.0       11.99   23.98   \n",
       "\n",
       "       Order Date                       Purchase Address Month  \n",
       "0  01/22/19 21:25        944 Walnut St, Boston, MA 02215    01  \n",
       "1  01/28/19 14:15       185 Maple St, Portland, OR 97035    01  \n",
       "2  01/17/19 13:33  538 Adams St, San Francisco, CA 94016    01  "
      ]
     },
     "execution_count": 54,
     "metadata": {},
     "output_type": "execute_result"
    }
   ],
   "source": [
    "moving_column = result.pop('Sales')\n",
    "result.insert(4,'Sales',moving_column)\n",
    "result.head(3)"
   ]
  },
  {
   "cell_type": "markdown",
   "metadata": {},
   "source": [
    "TÌM GIÁ TRỊ SALES LỚN NHẤT TRONG CÁC THÁNG"
   ]
  },
  {
   "cell_type": "code",
   "execution_count": 55,
   "metadata": {},
   "outputs": [
    {
     "data": {
      "text/plain": [
       "4613443.34"
      ]
     },
     "execution_count": 55,
     "metadata": {},
     "output_type": "execute_result"
    }
   ],
   "source": [
    "sales_value_max =result.groupby('Month').sum()['Sales']\n",
    "sales_value_max.max()\n"
   ]
  },
  {
   "cell_type": "markdown",
   "metadata": {},
   "source": [
    "BIỂU ĐÒ TRỰC QUAN HÓA SỐ LIỆU TRÊN"
   ]
  },
  {
   "cell_type": "code",
   "execution_count": 56,
   "metadata": {},
   "outputs": [
    {
     "data": {
      "image/png": "[encoded data removed]",
      "text/plain": [
       "<Figure size 640x480 with 1 Axes>"
      ]
     },
     "metadata": {},
     "output_type": "display_data"
    }
   ],
   "source": [
    "months = range(1,13)\n",
    "plt.bar(x=months,height=sales_value_max)\n",
    "plt.xticks(months)\n",
    "plt.xlabel('Months')\n",
    "plt.ylabel('Sales in USD')\n",
    "plt.show()\n"
   ]
  },
  {
   "cell_type": "markdown",
   "metadata": {},
   "source": [
    "2. What city has the best sales?"
   ]
  },
  {
   "cell_type": "markdown",
   "metadata": {},
   "source": [
    "TẠO CỘT MỚI CHỨA TÊN THÀNH PHỐ TỪ CỘT PURCHASE ADDRESS"
   ]
  },
  {
   "cell_type": "code",
   "execution_count": 57,
   "metadata": {},
   "outputs": [
    {
     "name": "stderr",
     "output_type": "stream",
     "text": [
      "C:\\Users\\vhngh\\AppData\\Local\\Temp\\ipykernel_13232\\360849240.py:1: SettingWithCopyWarning: \n",
      "A value is trying to be set on a copy of a slice from a DataFrame.\n",
      "Try using .loc[row_indexer,col_indexer] = value instead\n",
      "\n",
      "See the caveats in the documentation: https://pandas.pydata.org/pandas-docs/stable/user_guide/indexing.html#returning-a-view-versus-a-copy\n",
      "  result['City'] = result['Purchase Address'].apply(lambda x: x.split(',')[1].strip())\n"
     ]
    }
   ],
   "source": [
    "\n",
    "result['City'] = result['Purchase Address'].apply(lambda x: x.split(',')[1].strip())"
   ]
  },
  {
   "cell_type": "code",
   "execution_count": 58,
   "metadata": {},
   "outputs": [
    {
     "data": {
      "text/html": [
       "<div>\n",
       "<style scoped>\n",
       "    .dataframe tbody tr th:only-of-type {\n",
       "        vertical-align: middle;\n",
       "    }\n",
       "\n",
       "    .dataframe tbody tr th {\n",
       "        vertical-align: top;\n",
       "    }\n",
       "\n",
       "    .dataframe thead th {\n",
       "        text-align: right;\n",
       "    }\n",
       "</style>\n",
       "<table border=\"1\" class=\"dataframe\">\n",
       "  <thead>\n",
       "    <tr style=\"text-align: right;\">\n",
       "      <th></th>\n",
       "      <th>Order ID</th>\n",
       "      <th>Product</th>\n",
       "      <th>Quantity Ordered</th>\n",
       "      <th>Price Each</th>\n",
       "      <th>Sales</th>\n",
       "      <th>Order Date</th>\n",
       "      <th>Purchase Address</th>\n",
       "      <th>Month</th>\n",
       "      <th>City</th>\n",
       "    </tr>\n",
       "  </thead>\n",
       "  <tbody>\n",
       "    <tr>\n",
       "      <th>0</th>\n",
       "      <td>141234</td>\n",
       "      <td>iPhone</td>\n",
       "      <td>1.0</td>\n",
       "      <td>700.00</td>\n",
       "      <td>700.00</td>\n",
       "      <td>01/22/19 21:25</td>\n",
       "      <td>944 Walnut St, Boston, MA 02215</td>\n",
       "      <td>01</td>\n",
       "      <td>Boston</td>\n",
       "    </tr>\n",
       "    <tr>\n",
       "      <th>1</th>\n",
       "      <td>141235</td>\n",
       "      <td>Lightning Charging Cable</td>\n",
       "      <td>1.0</td>\n",
       "      <td>14.95</td>\n",
       "      <td>14.95</td>\n",
       "      <td>01/28/19 14:15</td>\n",
       "      <td>185 Maple St, Portland, OR 97035</td>\n",
       "      <td>01</td>\n",
       "      <td>Portland</td>\n",
       "    </tr>\n",
       "    <tr>\n",
       "      <th>2</th>\n",
       "      <td>141236</td>\n",
       "      <td>Wired Headphones</td>\n",
       "      <td>2.0</td>\n",
       "      <td>11.99</td>\n",
       "      <td>23.98</td>\n",
       "      <td>01/17/19 13:33</td>\n",
       "      <td>538 Adams St, San Francisco, CA 94016</td>\n",
       "      <td>01</td>\n",
       "      <td>San Francisco</td>\n",
       "    </tr>\n",
       "    <tr>\n",
       "      <th>3</th>\n",
       "      <td>141237</td>\n",
       "      <td>27in FHD Monitor</td>\n",
       "      <td>1.0</td>\n",
       "      <td>149.99</td>\n",
       "      <td>149.99</td>\n",
       "      <td>01/05/19 20:33</td>\n",
       "      <td>738 10th St, Los Angeles, CA 90001</td>\n",
       "      <td>01</td>\n",
       "      <td>Los Angeles</td>\n",
       "    </tr>\n",
       "    <tr>\n",
       "      <th>4</th>\n",
       "      <td>141238</td>\n",
       "      <td>Wired Headphones</td>\n",
       "      <td>1.0</td>\n",
       "      <td>11.99</td>\n",
       "      <td>11.99</td>\n",
       "      <td>01/25/19 11:59</td>\n",
       "      <td>387 10th St, Austin, TX 73301</td>\n",
       "      <td>01</td>\n",
       "      <td>Austin</td>\n",
       "    </tr>\n",
       "  </tbody>\n",
       "</table>\n",
       "</div>"
      ],
      "text/plain": [
       "  Order ID                   Product  Quantity Ordered  Price Each   Sales  \\\n",
       "0   141234                    iPhone               1.0      700.00  700.00   \n",
       "1   141235  Lightning Charging Cable               1.0       14.95   14.95   \n",
       "2   141236          Wired Headphones               2.0       11.99   23.98   \n",
       "3   141237          27in FHD Monitor               1.0      149.99  149.99   \n",
       "4   141238          Wired Headphones               1.0       11.99   11.99   \n",
       "\n",
       "       Order Date                       Purchase Address Month           City  \n",
       "0  01/22/19 21:25        944 Walnut St, Boston, MA 02215    01         Boston  \n",
       "1  01/28/19 14:15       185 Maple St, Portland, OR 97035    01       Portland  \n",
       "2  01/17/19 13:33  538 Adams St, San Francisco, CA 94016    01  San Francisco  \n",
       "3  01/05/19 20:33     738 10th St, Los Angeles, CA 90001    01    Los Angeles  \n",
       "4  01/25/19 11:59          387 10th St, Austin, TX 73301    01         Austin  "
      ]
     },
     "execution_count": 58,
     "metadata": {},
     "output_type": "execute_result"
    }
   ],
   "source": [
    "result.head()"
   ]
  },
  {
   "cell_type": "markdown",
   "metadata": {},
   "source": [
    "HIỂN THỊ CÁC GIÁ TRỊ TRONG CỘT CITY"
   ]
  },
  {
   "cell_type": "code",
   "execution_count": 59,
   "metadata": {},
   "outputs": [
    {
     "name": "stdout",
     "output_type": "stream",
     "text": [
      "{'New York City', 'Seattle', 'San Francisco', 'Dallas', 'Atlanta', 'Los Angeles', 'Portland', 'Boston', 'Austin'}\n"
     ]
    }
   ],
   "source": [
    "print(set(result['City']))"
   ]
  },
  {
   "cell_type": "markdown",
   "metadata": {},
   "source": [
    "KIỂM TRA TỔNG GIÁ TRỊ NULL TRONG CỘT CITY"
   ]
  },
  {
   "cell_type": "code",
   "execution_count": 60,
   "metadata": {},
   "outputs": [
    {
     "data": {
      "text/plain": [
       "0"
      ]
     },
     "execution_count": 60,
     "metadata": {},
     "output_type": "execute_result"
    }
   ],
   "source": [
    "result['City'].isnull().sum()"
   ]
  },
  {
   "cell_type": "markdown",
   "metadata": {},
   "source": [
    "LẤY RA GIÁ TRỊ SALES LỚN NHẤT TRONG CÁC THÀNH PHỐ"
   ]
  },
  {
   "cell_type": "code",
   "execution_count": 61,
   "metadata": {},
   "outputs": [
    {
     "data": {
      "text/plain": [
       "8262203.91"
      ]
     },
     "execution_count": 61,
     "metadata": {},
     "output_type": "execute_result"
    }
   ],
   "source": [
    "City_Sales_Max = result.groupby('City').sum()['Sales']\n",
    "City_Sales_Max.max()"
   ]
  },
  {
   "cell_type": "code",
   "execution_count": 62,
   "metadata": {},
   "outputs": [
    {
     "name": "stdout",
     "output_type": "stream",
     "text": [
      "['Atlanta', 'Austin', 'Boston', 'Dallas', 'Los Angeles', 'New York City', 'Portland', 'San Francisco', 'Seattle']\n"
     ]
    }
   ],
   "source": [
    "#cities = result['City'].unique() \n",
    "# Không dùng cách này được, bởi vì thứ tự các thành phố trong cities không khớp với City nên cho ra giá trị của bị sai lệch\n",
    "cities = []\n",
    "for city,sales in City_Sales_Max.items():\n",
    "    cities.append(city)\n",
    "print(cities)"
   ]
  },
  {
   "cell_type": "code",
   "execution_count": 63,
   "metadata": {},
   "outputs": [
    {
     "data": {
      "image/png": "[encoded data removed]",
      "text/plain": [
       "<Figure size 640x480 with 1 Axes>"
      ]
     },
     "metadata": {},
     "output_type": "display_data"
    }
   ],
   "source": [
    "plt.bar(x=cities,height=City_Sales_Max)\n",
    "plt.xticks(cities,rotation = 45,size = 8)\n",
    "plt.xlabel('City')\n",
    "plt.ylabel('Sales in USD')\n",
    "plt.show()\n"
   ]
  },
  {
   "cell_type": "markdown",
   "metadata": {},
   "source": [
    "3. What time should we display ads to maximize the likelihood of customer's by product?\n"
   ]
  },
  {
   "cell_type": "markdown",
   "metadata": {},
   "source": [
    "ĐỔI KIỂU DỮ LIỆU CỘT ORDER DATE"
   ]
  },
  {
   "cell_type": "code",
   "execution_count": 64,
   "metadata": {},
   "outputs": [
    {
     "name": "stderr",
     "output_type": "stream",
     "text": [
      "C:\\Users\\vhngh\\AppData\\Local\\Temp\\ipykernel_13232\\1634758756.py:1: UserWarning: Could not infer format, so each element will be parsed individually, falling back to `dateutil`. To ensure parsing is consistent and as-expected, please specify a format.\n",
      "  result['Order Date']=pd.to_datetime(result['Order Date']);\n",
      "C:\\Users\\vhngh\\AppData\\Local\\Temp\\ipykernel_13232\\1634758756.py:1: SettingWithCopyWarning: \n",
      "A value is trying to be set on a copy of a slice from a DataFrame.\n",
      "Try using .loc[row_indexer,col_indexer] = value instead\n",
      "\n",
      "See the caveats in the documentation: https://pandas.pydata.org/pandas-docs/stable/user_guide/indexing.html#returning-a-view-versus-a-copy\n",
      "  result['Order Date']=pd.to_datetime(result['Order Date']);\n"
     ]
    }
   ],
   "source": [
    "result['Order Date']=pd.to_datetime(result['Order Date']);\n"
   ]
  },
  {
   "cell_type": "code",
   "execution_count": 65,
   "metadata": {},
   "outputs": [
    {
     "name": "stdout",
     "output_type": "stream",
     "text": [
      "datetime64[ns]\n"
     ]
    }
   ],
   "source": [
    "print(result['Order Date'].dtypes)"
   ]
  },
  {
   "cell_type": "markdown",
   "metadata": {},
   "source": [
    "TẠO CỘT MỚI CHỨA GIỜ TỪ CỘT ORDER DATE"
   ]
  },
  {
   "cell_type": "code",
   "execution_count": 66,
   "metadata": {},
   "outputs": [
    {
     "name": "stderr",
     "output_type": "stream",
     "text": [
      "C:\\Users\\vhngh\\AppData\\Local\\Temp\\ipykernel_13232\\2794683548.py:1: SettingWithCopyWarning: \n",
      "A value is trying to be set on a copy of a slice from a DataFrame.\n",
      "Try using .loc[row_indexer,col_indexer] = value instead\n",
      "\n",
      "See the caveats in the documentation: https://pandas.pydata.org/pandas-docs/stable/user_guide/indexing.html#returning-a-view-versus-a-copy\n",
      "  result['Hours']=result['Order Date'].dt.hour\n"
     ]
    },
    {
     "data": {
      "text/html": [
       "<div>\n",
       "<style scoped>\n",
       "    .dataframe tbody tr th:only-of-type {\n",
       "        vertical-align: middle;\n",
       "    }\n",
       "\n",
       "    .dataframe tbody tr th {\n",
       "        vertical-align: top;\n",
       "    }\n",
       "\n",
       "    .dataframe thead th {\n",
       "        text-align: right;\n",
       "    }\n",
       "</style>\n",
       "<table border=\"1\" class=\"dataframe\">\n",
       "  <thead>\n",
       "    <tr style=\"text-align: right;\">\n",
       "      <th></th>\n",
       "      <th>Order ID</th>\n",
       "      <th>Product</th>\n",
       "      <th>Quantity Ordered</th>\n",
       "      <th>Price Each</th>\n",
       "      <th>Sales</th>\n",
       "      <th>Order Date</th>\n",
       "      <th>Purchase Address</th>\n",
       "      <th>Month</th>\n",
       "      <th>City</th>\n",
       "      <th>Hours</th>\n",
       "    </tr>\n",
       "  </thead>\n",
       "  <tbody>\n",
       "    <tr>\n",
       "      <th>0</th>\n",
       "      <td>141234</td>\n",
       "      <td>iPhone</td>\n",
       "      <td>1.0</td>\n",
       "      <td>700.00</td>\n",
       "      <td>700.00</td>\n",
       "      <td>2019-01-22 21:25:00</td>\n",
       "      <td>944 Walnut St, Boston, MA 02215</td>\n",
       "      <td>01</td>\n",
       "      <td>Boston</td>\n",
       "      <td>21</td>\n",
       "    </tr>\n",
       "    <tr>\n",
       "      <th>1</th>\n",
       "      <td>141235</td>\n",
       "      <td>Lightning Charging Cable</td>\n",
       "      <td>1.0</td>\n",
       "      <td>14.95</td>\n",
       "      <td>14.95</td>\n",
       "      <td>2019-01-28 14:15:00</td>\n",
       "      <td>185 Maple St, Portland, OR 97035</td>\n",
       "      <td>01</td>\n",
       "      <td>Portland</td>\n",
       "      <td>14</td>\n",
       "    </tr>\n",
       "    <tr>\n",
       "      <th>2</th>\n",
       "      <td>141236</td>\n",
       "      <td>Wired Headphones</td>\n",
       "      <td>2.0</td>\n",
       "      <td>11.99</td>\n",
       "      <td>23.98</td>\n",
       "      <td>2019-01-17 13:33:00</td>\n",
       "      <td>538 Adams St, San Francisco, CA 94016</td>\n",
       "      <td>01</td>\n",
       "      <td>San Francisco</td>\n",
       "      <td>13</td>\n",
       "    </tr>\n",
       "    <tr>\n",
       "      <th>3</th>\n",
       "      <td>141237</td>\n",
       "      <td>27in FHD Monitor</td>\n",
       "      <td>1.0</td>\n",
       "      <td>149.99</td>\n",
       "      <td>149.99</td>\n",
       "      <td>2019-01-05 20:33:00</td>\n",
       "      <td>738 10th St, Los Angeles, CA 90001</td>\n",
       "      <td>01</td>\n",
       "      <td>Los Angeles</td>\n",
       "      <td>20</td>\n",
       "    </tr>\n",
       "    <tr>\n",
       "      <th>4</th>\n",
       "      <td>141238</td>\n",
       "      <td>Wired Headphones</td>\n",
       "      <td>1.0</td>\n",
       "      <td>11.99</td>\n",
       "      <td>11.99</td>\n",
       "      <td>2019-01-25 11:59:00</td>\n",
       "      <td>387 10th St, Austin, TX 73301</td>\n",
       "      <td>01</td>\n",
       "      <td>Austin</td>\n",
       "      <td>11</td>\n",
       "    </tr>\n",
       "  </tbody>\n",
       "</table>\n",
       "</div>"
      ],
      "text/plain": [
       "  Order ID                   Product  Quantity Ordered  Price Each   Sales  \\\n",
       "0   141234                    iPhone               1.0      700.00  700.00   \n",
       "1   141235  Lightning Charging Cable               1.0       14.95   14.95   \n",
       "2   141236          Wired Headphones               2.0       11.99   23.98   \n",
       "3   141237          27in FHD Monitor               1.0      149.99  149.99   \n",
       "4   141238          Wired Headphones               1.0       11.99   11.99   \n",
       "\n",
       "           Order Date                       Purchase Address Month  \\\n",
       "0 2019-01-22 21:25:00        944 Walnut St, Boston, MA 02215    01   \n",
       "1 2019-01-28 14:15:00       185 Maple St, Portland, OR 97035    01   \n",
       "2 2019-01-17 13:33:00  538 Adams St, San Francisco, CA 94016    01   \n",
       "3 2019-01-05 20:33:00     738 10th St, Los Angeles, CA 90001    01   \n",
       "4 2019-01-25 11:59:00          387 10th St, Austin, TX 73301    01   \n",
       "\n",
       "            City  Hours  \n",
       "0         Boston     21  \n",
       "1       Portland     14  \n",
       "2  San Francisco     13  \n",
       "3    Los Angeles     20  \n",
       "4         Austin     11  "
      ]
     },
     "execution_count": 66,
     "metadata": {},
     "output_type": "execute_result"
    }
   ],
   "source": [
    "result['Hours']=result['Order Date'].dt.hour\n",
    "result.head()"
   ]
  },
  {
   "cell_type": "markdown",
   "metadata": {},
   "source": [
    "ĐẾM SỐ SALES DỰA TRÊN GIỜ"
   ]
  },
  {
   "cell_type": "code",
   "execution_count": 67,
   "metadata": {},
   "outputs": [
    {
     "data": {
      "text/plain": [
       "Hours\n",
       "0    3910\n",
       "1    2350\n",
       "2    1243\n",
       "Name: Sales, dtype: int64"
      ]
     },
     "execution_count": 67,
     "metadata": {},
     "output_type": "execute_result"
    }
   ],
   "source": [
    "Hours_Sales_Max = result.groupby('Hours').count()['Sales']\n",
    "Hours_Sales_Max.head(3)"
   ]
  },
  {
   "cell_type": "code",
   "execution_count": 68,
   "metadata": {},
   "outputs": [
    {
     "name": "stdout",
     "output_type": "stream",
     "text": [
      "[0, 1, 2, 3, 4, 5, 6, 7, 8, 9, 10, 11, 12, 13, 14, 15, 16, 17, 18, 19, 20, 21, 22, 23]\n"
     ]
    }
   ],
   "source": [
    "Hours_value = []\n",
    "for hour,sales in Hours_Sales_Max.items():\n",
    "    Hours_value.append(hour)\n",
    "print(Hours_value)"
   ]
  },
  {
   "cell_type": "markdown",
   "metadata": {},
   "source": [
    "TRỰC QUAN HÓA SỐ LIỆU TRÊN"
   ]
  },
  {
   "cell_type": "code",
   "execution_count": 69,
   "metadata": {},
   "outputs": [
    {
     "data": {
      "image/png": "[encoded data removed]",
      "text/plain": [
       "<Figure size 640x480 with 1 Axes>"
      ]
     },
     "metadata": {},
     "output_type": "display_data"
    }
   ],
   "source": [
    "plt.plot(Hours_value,Hours_Sales_Max)\n",
    "plt.xticks(Hours_value,rotation = 0,size = 8)\n",
    "plt.grid()\n",
    "plt.xlabel('Hours')\n",
    "plt.ylabel('Sales in USD')\n",
    "plt.show()\n"
   ]
  },
  {
   "cell_type": "markdown",
   "metadata": {},
   "source": [
    "4. What products are most often sold together?\n"
   ]
  },
  {
   "cell_type": "code",
   "execution_count": 70,
   "metadata": {},
   "outputs": [
    {
     "data": {
      "text/html": [
       "<div>\n",
       "<style scoped>\n",
       "    .dataframe tbody tr th:only-of-type {\n",
       "        vertical-align: middle;\n",
       "    }\n",
       "\n",
       "    .dataframe tbody tr th {\n",
       "        vertical-align: top;\n",
       "    }\n",
       "\n",
       "    .dataframe thead th {\n",
       "        text-align: right;\n",
       "    }\n",
       "</style>\n",
       "<table border=\"1\" class=\"dataframe\">\n",
       "  <thead>\n",
       "    <tr style=\"text-align: right;\">\n",
       "      <th></th>\n",
       "      <th>Order ID</th>\n",
       "      <th>Product</th>\n",
       "      <th>Quantity Ordered</th>\n",
       "      <th>Price Each</th>\n",
       "      <th>Sales</th>\n",
       "      <th>Order Date</th>\n",
       "      <th>Purchase Address</th>\n",
       "      <th>Month</th>\n",
       "      <th>City</th>\n",
       "      <th>Hours</th>\n",
       "    </tr>\n",
       "  </thead>\n",
       "  <tbody>\n",
       "    <tr>\n",
       "      <th>0</th>\n",
       "      <td>141234</td>\n",
       "      <td>iPhone</td>\n",
       "      <td>1.0</td>\n",
       "      <td>700.00</td>\n",
       "      <td>700.00</td>\n",
       "      <td>2019-01-22 21:25:00</td>\n",
       "      <td>944 Walnut St, Boston, MA 02215</td>\n",
       "      <td>01</td>\n",
       "      <td>Boston</td>\n",
       "      <td>21</td>\n",
       "    </tr>\n",
       "    <tr>\n",
       "      <th>1</th>\n",
       "      <td>141235</td>\n",
       "      <td>Lightning Charging Cable</td>\n",
       "      <td>1.0</td>\n",
       "      <td>14.95</td>\n",
       "      <td>14.95</td>\n",
       "      <td>2019-01-28 14:15:00</td>\n",
       "      <td>185 Maple St, Portland, OR 97035</td>\n",
       "      <td>01</td>\n",
       "      <td>Portland</td>\n",
       "      <td>14</td>\n",
       "    </tr>\n",
       "    <tr>\n",
       "      <th>2</th>\n",
       "      <td>141236</td>\n",
       "      <td>Wired Headphones</td>\n",
       "      <td>2.0</td>\n",
       "      <td>11.99</td>\n",
       "      <td>23.98</td>\n",
       "      <td>2019-01-17 13:33:00</td>\n",
       "      <td>538 Adams St, San Francisco, CA 94016</td>\n",
       "      <td>01</td>\n",
       "      <td>San Francisco</td>\n",
       "      <td>13</td>\n",
       "    </tr>\n",
       "    <tr>\n",
       "      <th>3</th>\n",
       "      <td>141237</td>\n",
       "      <td>27in FHD Monitor</td>\n",
       "      <td>1.0</td>\n",
       "      <td>149.99</td>\n",
       "      <td>149.99</td>\n",
       "      <td>2019-01-05 20:33:00</td>\n",
       "      <td>738 10th St, Los Angeles, CA 90001</td>\n",
       "      <td>01</td>\n",
       "      <td>Los Angeles</td>\n",
       "      <td>20</td>\n",
       "    </tr>\n",
       "    <tr>\n",
       "      <th>4</th>\n",
       "      <td>141238</td>\n",
       "      <td>Wired Headphones</td>\n",
       "      <td>1.0</td>\n",
       "      <td>11.99</td>\n",
       "      <td>11.99</td>\n",
       "      <td>2019-01-25 11:59:00</td>\n",
       "      <td>387 10th St, Austin, TX 73301</td>\n",
       "      <td>01</td>\n",
       "      <td>Austin</td>\n",
       "      <td>11</td>\n",
       "    </tr>\n",
       "    <tr>\n",
       "      <th>5</th>\n",
       "      <td>141239</td>\n",
       "      <td>AAA Batteries (4-pack)</td>\n",
       "      <td>1.0</td>\n",
       "      <td>2.99</td>\n",
       "      <td>2.99</td>\n",
       "      <td>2019-01-29 20:22:00</td>\n",
       "      <td>775 Willow St, San Francisco, CA 94016</td>\n",
       "      <td>01</td>\n",
       "      <td>San Francisco</td>\n",
       "      <td>20</td>\n",
       "    </tr>\n",
       "    <tr>\n",
       "      <th>6</th>\n",
       "      <td>141240</td>\n",
       "      <td>27in 4K Gaming Monitor</td>\n",
       "      <td>1.0</td>\n",
       "      <td>389.99</td>\n",
       "      <td>389.99</td>\n",
       "      <td>2019-01-26 12:16:00</td>\n",
       "      <td>979 Park St, Los Angeles, CA 90001</td>\n",
       "      <td>01</td>\n",
       "      <td>Los Angeles</td>\n",
       "      <td>12</td>\n",
       "    </tr>\n",
       "    <tr>\n",
       "      <th>7</th>\n",
       "      <td>141241</td>\n",
       "      <td>USB-C Charging Cable</td>\n",
       "      <td>1.0</td>\n",
       "      <td>11.95</td>\n",
       "      <td>11.95</td>\n",
       "      <td>2019-01-05 12:04:00</td>\n",
       "      <td>181 6th St, San Francisco, CA 94016</td>\n",
       "      <td>01</td>\n",
       "      <td>San Francisco</td>\n",
       "      <td>12</td>\n",
       "    </tr>\n",
       "    <tr>\n",
       "      <th>8</th>\n",
       "      <td>141242</td>\n",
       "      <td>Bose SoundSport Headphones</td>\n",
       "      <td>1.0</td>\n",
       "      <td>99.99</td>\n",
       "      <td>99.99</td>\n",
       "      <td>2019-01-01 10:30:00</td>\n",
       "      <td>867 Willow St, Los Angeles, CA 90001</td>\n",
       "      <td>01</td>\n",
       "      <td>Los Angeles</td>\n",
       "      <td>10</td>\n",
       "    </tr>\n",
       "    <tr>\n",
       "      <th>9</th>\n",
       "      <td>141243</td>\n",
       "      <td>Apple Airpods Headphones</td>\n",
       "      <td>1.0</td>\n",
       "      <td>150.00</td>\n",
       "      <td>150.00</td>\n",
       "      <td>2019-01-22 21:20:00</td>\n",
       "      <td>657 Johnson St, San Francisco, CA 94016</td>\n",
       "      <td>01</td>\n",
       "      <td>San Francisco</td>\n",
       "      <td>21</td>\n",
       "    </tr>\n",
       "  </tbody>\n",
       "</table>\n",
       "</div>"
      ],
      "text/plain": [
       "  Order ID                     Product  Quantity Ordered  Price Each   Sales  \\\n",
       "0   141234                      iPhone               1.0      700.00  700.00   \n",
       "1   141235    Lightning Charging Cable               1.0       14.95   14.95   \n",
       "2   141236            Wired Headphones               2.0       11.99   23.98   \n",
       "3   141237            27in FHD Monitor               1.0      149.99  149.99   \n",
       "4   141238            Wired Headphones               1.0       11.99   11.99   \n",
       "5   141239      AAA Batteries (4-pack)               1.0        2.99    2.99   \n",
       "6   141240      27in 4K Gaming Monitor               1.0      389.99  389.99   \n",
       "7   141241        USB-C Charging Cable               1.0       11.95   11.95   \n",
       "8   141242  Bose SoundSport Headphones               1.0       99.99   99.99   \n",
       "9   141243    Apple Airpods Headphones               1.0      150.00  150.00   \n",
       "\n",
       "           Order Date                         Purchase Address Month  \\\n",
       "0 2019-01-22 21:25:00          944 Walnut St, Boston, MA 02215    01   \n",
       "1 2019-01-28 14:15:00         185 Maple St, Portland, OR 97035    01   \n",
       "2 2019-01-17 13:33:00    538 Adams St, San Francisco, CA 94016    01   \n",
       "3 2019-01-05 20:33:00       738 10th St, Los Angeles, CA 90001    01   \n",
       "4 2019-01-25 11:59:00            387 10th St, Austin, TX 73301    01   \n",
       "5 2019-01-29 20:22:00   775 Willow St, San Francisco, CA 94016    01   \n",
       "6 2019-01-26 12:16:00       979 Park St, Los Angeles, CA 90001    01   \n",
       "7 2019-01-05 12:04:00      181 6th St, San Francisco, CA 94016    01   \n",
       "8 2019-01-01 10:30:00     867 Willow St, Los Angeles, CA 90001    01   \n",
       "9 2019-01-22 21:20:00  657 Johnson St, San Francisco, CA 94016    01   \n",
       "\n",
       "            City  Hours  \n",
       "0         Boston     21  \n",
       "1       Portland     14  \n",
       "2  San Francisco     13  \n",
       "3    Los Angeles     20  \n",
       "4         Austin     11  \n",
       "5  San Francisco     20  \n",
       "6    Los Angeles     12  \n",
       "7  San Francisco     12  \n",
       "8    Los Angeles     10  \n",
       "9  San Francisco     21  "
      ]
     },
     "execution_count": 70,
     "metadata": {},
     "output_type": "execute_result"
    }
   ],
   "source": [
    "result.head(10)"
   ]
  },
  {
   "cell_type": "code",
   "execution_count": null,
   "metadata": {},
   "outputs": [],
   "source": []
  }
 ],
 "metadata": {
  "kernelspec": {
   "display_name": "Python 3",
   "language": "python",
   "name": "python3"
  },
  "language_info": {
   "codemirror_mode": {
    "name": "ipython",
    "version": 3
   },
   "file_extension": ".py",
   "mimetype": "text/x-python",
   "name": "python",
   "nbconvert_exporter": "python",
   "pygments_lexer": "ipython3",
   "version": "3.12.0"
  }
 },
 "nbformat": 4,
 "nbformat_minor": 2
}
